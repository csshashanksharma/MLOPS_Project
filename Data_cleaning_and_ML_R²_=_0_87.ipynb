{
  "metadata": {
    "kernelspec": {
      "language": "python",
      "display_name": "Python 3",
      "name": "python3"
    },
    "language_info": {
      "name": "python",
      "version": "3.10.13",
      "mimetype": "text/x-python",
      "codemirror_mode": {
        "name": "ipython",
        "version": 3
      },
      "pygments_lexer": "ipython3",
      "nbconvert_exporter": "python",
      "file_extension": ".py"
    },
    "kaggle": {
      "accelerator": "none",
      "dataSources": [
        {
          "sourceId": 8468232,
          "sourceType": "datasetVersion",
          "datasetId": 5049038
        }
      ],
      "dockerImageVersionId": 30732,
      "isInternetEnabled": true,
      "language": "python",
      "sourceType": "notebook",
      "isGpuEnabled": false
    },
    "colab": {
      "name": "Data cleaning and ML R² = 0.87",
      "provenance": []
    }
  },
  "nbformat_minor": 0,
  "nbformat": 4,
  "cells": [
    {
      "source": [
        "# IMPORTANT: RUN THIS CELL IN ORDER TO IMPORT YOUR KAGGLE DATA SOURCES,\n",
        "# THEN FEEL FREE TO DELETE THIS CELL.\n",
        "# NOTE: THIS NOTEBOOK ENVIRONMENT DIFFERS FROM KAGGLE'S PYTHON\n",
        "# ENVIRONMENT SO THERE MAY BE MISSING LIBRARIES USED BY YOUR\n",
        "# NOTEBOOK.\n",
        "import kagglehub\n",
        "dewangmoghe_mobile_phone_price_prediction_path = kagglehub.dataset_download('dewangmoghe/mobile-phone-price-prediction')\n",
        "\n",
        "print('Data source import complete.')\n"
      ],
      "metadata": {
        "id": "zgYCkMz5LULH"
      },
      "cell_type": "code",
      "outputs": [],
      "execution_count": null
    },
    {
      "cell_type": "markdown",
      "source": [
        "# I - Overview"
      ],
      "metadata": {
        "id": "ocveYiOqLULI"
      }
    },
    {
      "cell_type": "code",
      "source": [
        "import numpy as np\n",
        "import pandas as pd\n",
        "import matplotlib.pyplot as plt\n",
        "import seaborn as sns\n",
        "import re"
      ],
      "metadata": {
        "execution": {
          "iopub.status.busy": "2025-02-02T15:39:48.305481Z",
          "iopub.execute_input": "2025-02-02T15:39:48.305942Z",
          "iopub.status.idle": "2025-02-02T15:39:48.314586Z",
          "shell.execute_reply.started": "2025-02-02T15:39:48.305908Z",
          "shell.execute_reply": "2025-02-02T15:39:48.313397Z"
        },
        "trusted": true,
        "id": "no14VOllLULK"
      },
      "outputs": [],
      "execution_count": null
    },
    {
      "cell_type": "markdown",
      "source": [
        "This Dataset is collected by Scraping the Data Online Websites.\n",
        "The Columns are as follows.\n",
        "\n",
        "Name: This column contains the name of the mobile phone.\n",
        "\n",
        "Rating: This column contains the ratings given to the phone. the minimum rating is 0. and maximum rating is 5.\n",
        "\n",
        "Spec_score: This column contains the score given to the phone on the basic of its specifications. This minimum value is 0 and maximum value is 100.\n",
        "\n",
        "No_of_sim: This column contains whether the phone is dual sim, has 3g, 4g, 5g, volte.\n",
        "\n",
        "RAM: This column contains the information about the RAM of the phone\n",
        "\n",
        "Battery: This column provides information about battery specification of the phone.\n",
        "\n",
        "Display: This column contains information about the screen size of the phone.\n",
        "\n",
        "Camera: This column provides information about the camera, rear and front.\n",
        "\n",
        "External_Memory: This column contains information whether a device support external memory and\n",
        "how much.\n",
        "\n",
        "Android_version: This column tells us about the android version of the phone.\n",
        "\n",
        "Price: Price of the phone.\n",
        "\n",
        "Company: The company to which the phone belongs.\n",
        "\n",
        "Inbuilt_memory: This column provides information about the inbuilt memory of the phone.\n",
        "\n",
        "fast_charging: It contains whether the device supports fast charging or not. if yes then how much.\n",
        "\n",
        "Screen_resolution: This describes the screen resolution of the phone.\n",
        "\n",
        "Processor: This column gives information about the processor of the phone.\n",
        "\n",
        "Processor_name: This column describes the name of the processor."
      ],
      "metadata": {
        "id": "N_GlYodOLULL"
      }
    },
    {
      "cell_type": "code",
      "source": [
        "df = pd.read_csv(\"/kaggle/input/mobile-phone-price-prediction/mobile phone price prediction.csv\")"
      ],
      "metadata": {
        "execution": {
          "iopub.status.busy": "2025-02-02T15:39:48.32273Z",
          "iopub.execute_input": "2025-02-02T15:39:48.323638Z",
          "iopub.status.idle": "2025-02-02T15:39:48.376241Z",
          "shell.execute_reply.started": "2025-02-02T15:39:48.323608Z",
          "shell.execute_reply": "2025-02-02T15:39:48.375132Z"
        },
        "trusted": true,
        "id": "iY7VzT5xLULM"
      },
      "outputs": [],
      "execution_count": null
    },
    {
      "cell_type": "code",
      "source": [
        "pd.set_option(\"display.max_columns\", None)\n",
        "display(df.info())\n",
        "display(df.describe())\n",
        "display(df.head())\n",
        "display(df.nunique())"
      ],
      "metadata": {
        "execution": {
          "iopub.status.busy": "2025-02-02T15:39:48.377911Z",
          "iopub.execute_input": "2025-02-02T15:39:48.378275Z",
          "iopub.status.idle": "2025-02-02T15:39:48.428831Z",
          "shell.execute_reply.started": "2025-02-02T15:39:48.378248Z",
          "shell.execute_reply": "2025-02-02T15:39:48.428044Z"
        },
        "trusted": true,
        "id": "5sfDvXHELULO"
      },
      "outputs": [],
      "execution_count": null
    },
    {
      "cell_type": "markdown",
      "source": [
        "# II - Data cleaning"
      ],
      "metadata": {
        "id": "j3L5Q_O5LULP"
      }
    },
    {
      "cell_type": "markdown",
      "source": [
        "##   a - Basic & functions used"
      ],
      "metadata": {
        "id": "KUamXjq1LULQ"
      }
    },
    {
      "cell_type": "code",
      "source": [
        "# Changing every title into better version (lowwercase + \"_\" instead of spaces)\n",
        "df.columns = [col.lower() for col in df.columns]\n",
        "\n",
        "# Dropping the empty 'unnamed: 0' column\n",
        "df = df.drop('unnamed: 0', axis=1)"
      ],
      "metadata": {
        "trusted": true,
        "execution": {
          "iopub.status.busy": "2025-02-02T15:39:48.430369Z",
          "iopub.execute_input": "2025-02-02T15:39:48.430771Z",
          "iopub.status.idle": "2025-02-02T15:39:48.440002Z",
          "shell.execute_reply.started": "2025-02-02T15:39:48.430742Z",
          "shell.execute_reply": "2025-02-02T15:39:48.439014Z"
        },
        "id": "1C8UlmQkLULQ"
      },
      "outputs": [],
      "execution_count": null
    },
    {
      "cell_type": "code",
      "source": [
        "#### Function that look amount the missing values of every column/row\n",
        "def get_most_missing_data(df, axis, missing_pourcentage_threshold=0, missing_count_threshold=0):\n",
        "\n",
        "    #Calculate the number and percentage of missing values per row\n",
        "    missing_count = df.isnull().sum(axis=axis)\n",
        "    total = len(df.columns) if axis == 1 else len(df)\n",
        "    percent_nan = 100 * missing_count / total\n",
        "\n",
        "    # Create a DataFrame for the results\n",
        "    missing_data = pd.DataFrame({\n",
        "        'missing_count': missing_count,\n",
        "        'percent_missing': percent_nan\n",
        "    })\n",
        "\n",
        "    # Apply the two filtering conditions\n",
        "    missing_data = missing_data[\n",
        "        (missing_data['percent_missing'] >= missing_pourcentage_threshold) &\n",
        "        (missing_data['missing_count'] >= missing_count_threshold)\n",
        "    ]\n",
        "\n",
        "    # Sort the results\n",
        "    missing_data = missing_data.sort_values(by='percent_missing', ascending=False)\n",
        "    return missing_data"
      ],
      "metadata": {
        "trusted": true,
        "execution": {
          "iopub.status.busy": "2025-02-02T15:39:48.441903Z",
          "iopub.execute_input": "2025-02-02T15:39:48.442239Z",
          "iopub.status.idle": "2025-02-02T15:39:48.451992Z",
          "shell.execute_reply.started": "2025-02-02T15:39:48.442215Z",
          "shell.execute_reply": "2025-02-02T15:39:48.451055Z"
        },
        "id": "R6E-7IhuLULR"
      },
      "outputs": [],
      "execution_count": null
    },
    {
      "cell_type": "code",
      "source": [
        "#### Function that normalises the text in the column in better condition\n",
        "def normalize_text_column(df, columns,methods) :\n",
        "    for column in columns:\n",
        "            for method in methods:\n",
        "                if method == \"lowercase\":\n",
        "                    df[column] = df[column].str.lower()\n",
        "                elif method == \"space_removal\":\n",
        "                    df[column] = df[column].str.strip()\n",
        "                elif method == \"string_removal\":\n",
        "                    df[column] = df[column].replace(r'[^0-9.]', '', regex=True)\n",
        "                elif method == \"converts_into_integer\":\n",
        "                    df[column] = pd.to_numeric(df[column], errors='coerce')\n",
        "                elif method == \"converts_into_float\":\n",
        "                    df[column] = pd.to_numeric(df[column], errors='coerce',downcast='float')\n",
        "                elif method == \"removes_duplicate_spaces\":\n",
        "                    df[column] = df[column].replace(r'\\s+', ' ', regex=True)\n",
        "                else:\n",
        "                    raise ValueError(\"Unknown method: \" + str(method))\n",
        "\n",
        "    return df\n",
        "\n",
        "#### Function that changes value(s) by the median calculated from other columns\n",
        "def calculate_median_from_other_columns(df, column_to_replace, columns_where_calculate_median):\n",
        "\n",
        "    # Avant\n",
        "    df[column_to_replace] = df[column_to_replace].fillna(df.groupby(columns_where_calculate_median)[column_to_replace].transform('median'))\n",
        "    return df\n",
        "\n",
        "def filter_by_occurrence(df, columns, min_occurrences):\n",
        "    df_filtered = df.copy()\n",
        "\n",
        "    if isinstance(columns, str):\n",
        "        columns = [columns]  # Convertir en liste si une seule colonne est donnée\n",
        "\n",
        "    for col in columns:\n",
        "        counts = df_filtered[col].value_counts()\n",
        "        valid_values = counts[counts > min_occurrences].index  # Garde les valeurs ayant STRICTEMENT plus de min_occurrences\n",
        "        df_filtered = df_filtered[df_filtered[col].isin(valid_values)]\n",
        "\n",
        "    return df_filtered\n",
        "\n",
        "#### Function that swap col1, and col2 for the goal to have col1<col2\n",
        "def swap_columns_if_greater(df, col1, col2):\n",
        "    mask = df[col1] > df[col2]\n",
        "    df.loc[mask, [col1, col2]] = df.loc[mask, [col2, col1]].values\n",
        "    return df\n"
      ],
      "metadata": {
        "trusted": true,
        "execution": {
          "iopub.status.busy": "2025-02-02T15:39:48.45316Z",
          "iopub.execute_input": "2025-02-02T15:39:48.453431Z",
          "iopub.status.idle": "2025-02-02T15:39:48.475943Z",
          "shell.execute_reply.started": "2025-02-02T15:39:48.453408Z",
          "shell.execute_reply": "2025-02-02T15:39:48.47486Z"
        },
        "id": "JVPzwpA4LULR"
      },
      "outputs": [],
      "execution_count": null
    },
    {
      "cell_type": "code",
      "source": [
        "df = normalize_text_column(df, list(df.select_dtypes(include='object')),['lowercase','space_removal','removes_duplicate_spaces'])\n"
      ],
      "metadata": {
        "trusted": true,
        "execution": {
          "iopub.status.busy": "2025-02-02T15:39:48.477287Z",
          "iopub.execute_input": "2025-02-02T15:39:48.47767Z",
          "iopub.status.idle": "2025-02-02T15:39:48.548155Z",
          "shell.execute_reply.started": "2025-02-02T15:39:48.477637Z",
          "shell.execute_reply": "2025-02-02T15:39:48.547422Z"
        },
        "id": "wWZ3iGgxLULR"
      },
      "outputs": [],
      "execution_count": null
    },
    {
      "cell_type": "markdown",
      "source": [
        "## b. general anomalies"
      ],
      "metadata": {
        "execution": {
          "iopub.status.busy": "2025-01-09T19:52:34.592787Z",
          "iopub.execute_input": "2025-01-09T19:52:34.593293Z",
          "iopub.status.idle": "2025-01-09T19:52:34.610455Z",
          "shell.execute_reply.started": "2025-01-09T19:52:34.593246Z",
          "shell.execute_reply": "2025-01-09T19:52:34.609359Z"
        },
        "id": "SnA6_0e2LULS"
      }
    },
    {
      "cell_type": "markdown",
      "source": [
        "#### The row 264 and 1246 are not looking in the right order about the columns. 1239 will be cleaned later with all the other data"
      ],
      "metadata": {
        "id": "RW_TgyMVLULS"
      }
    },
    {
      "cell_type": "code",
      "source": [
        "display(get_most_missing_data(df,0))\n",
        "pd.set_option('display.max_colwidth', 30)\n",
        "display((df[df.index.isin([264,1246,1239,3,11,15,1256])]))"
      ],
      "metadata": {
        "trusted": true,
        "execution": {
          "iopub.status.busy": "2025-02-02T15:39:48.550607Z",
          "iopub.execute_input": "2025-02-02T15:39:48.550937Z",
          "iopub.status.idle": "2025-02-02T15:39:48.585251Z",
          "shell.execute_reply.started": "2025-02-02T15:39:48.550912Z",
          "shell.execute_reply": "2025-02-02T15:39:48.584188Z"
        },
        "id": "YpGa1iL9LULS"
      },
      "outputs": [],
      "execution_count": null
    },
    {
      "cell_type": "code",
      "source": [
        "df.loc[264, ['ram', 'battery', 'display', 'camera', 'external_memory', 'inbuilt_memory', 'fast_charging', 'screen_resolution', 'processor_name']] = [\n",
        "    '6 gb ram',  # ram\n",
        "    '4300 mah battery',  # battery\n",
        "    '6.5 inches',  # display\n",
        "    '48 mp quad rear & 16 mp front camera',  # camera\n",
        "    'memory card supported, upto 1 tb',  # external memory\n",
        "    '64 gb inbuilt',  # inbuilt memory\n",
        "    '30w fast charging',  # fast charging\n",
        "    '1080 x 2400 px with punch hole',  # screen resolution\n",
        "    'helio g90t'  # processor name\n",
        "]\n",
        "\n",
        "df.loc[1246, ['ram', 'battery', 'display', 'camera', 'external_memory', 'inbuilt_memory', 'fast_charging', 'screen_resolution', 'processor', 'processor_name']] = [\n",
        "    '4 gb ram',  # ram\n",
        "    '6000 mah battery with 22.5w fast charging',  # battery\n",
        "    '6.75 inches',  # display\n",
        "    '48 mp + 5 mp + 2 mp triple rear & 8 mp front camera',  # camera\n",
        "    'memory card (hybrid)',  # external memory\n",
        "    '128 gb inbuilt',  # inbuilt memory\n",
        "    '22.5w fast charging',  # fast charging\n",
        "    '720 x 1600 px display',  # screen resolution\n",
        "    'octa core',  # processor\n",
        "    'helio g35'  # processor name\n",
        "]"
      ],
      "metadata": {
        "execution": {
          "iopub.status.busy": "2025-02-02T15:39:48.586595Z",
          "iopub.execute_input": "2025-02-02T15:39:48.58706Z",
          "iopub.status.idle": "2025-02-02T15:39:48.598947Z",
          "shell.execute_reply.started": "2025-02-02T15:39:48.587024Z",
          "shell.execute_reply": "2025-02-02T15:39:48.597849Z"
        },
        "trusted": true,
        "id": "uPV6vQcpLULS"
      },
      "outputs": [],
      "execution_count": null
    },
    {
      "cell_type": "markdown",
      "source": [
        "## c. display - ok"
      ],
      "metadata": {
        "id": "sQ2mfeJ8LULS"
      }
    },
    {
      "cell_type": "code",
      "source": [
        "print(df['display'].value_counts(dropna=False).to_string())"
      ],
      "metadata": {
        "execution": {
          "iopub.status.busy": "2025-02-02T15:39:48.600255Z",
          "iopub.execute_input": "2025-02-02T15:39:48.600579Z",
          "iopub.status.idle": "2025-02-02T15:39:48.618432Z",
          "shell.execute_reply.started": "2025-02-02T15:39:48.600556Z",
          "shell.execute_reply": "2025-02-02T15:39:48.617462Z"
        },
        "trusted": true,
        "id": "MKHj8ZNHLULS"
      },
      "outputs": [],
      "execution_count": null
    },
    {
      "cell_type": "markdown",
      "source": [
        "#### There is some high values, but it really concerns bigger phones. But the data is quite clean."
      ],
      "metadata": {
        "id": "2WFVt_SeLULS"
      }
    },
    {
      "cell_type": "code",
      "source": [
        "#removing not integer infos\n",
        "df = normalize_text_column(df,['display'],['string_removal'])\n",
        "\n",
        "#Converts to float\n",
        "df = normalize_text_column(df,['display'],['converts_into_float'])\n",
        "\n",
        "print(df['display'].value_counts(dropna=False).to_string())"
      ],
      "metadata": {
        "execution": {
          "iopub.status.busy": "2025-02-02T15:39:48.619516Z",
          "iopub.execute_input": "2025-02-02T15:39:48.6198Z",
          "iopub.status.idle": "2025-02-02T15:39:48.638065Z",
          "shell.execute_reply.started": "2025-02-02T15:39:48.619771Z",
          "shell.execute_reply": "2025-02-02T15:39:48.637035Z"
        },
        "trusted": true,
        "id": "RmEeTeefLULT"
      },
      "outputs": [],
      "execution_count": null
    },
    {
      "cell_type": "markdown",
      "source": [
        "##   e - spec_values - ok"
      ],
      "metadata": {
        "execution": {
          "iopub.status.busy": "2024-09-09T18:05:27.445816Z",
          "iopub.execute_input": "2024-09-09T18:05:27.446188Z",
          "iopub.status.idle": "2024-09-09T18:05:27.451734Z",
          "shell.execute_reply.started": "2024-09-09T18:05:27.446158Z",
          "shell.execute_reply": "2024-09-09T18:05:27.450294Z"
        },
        "id": "7JXqS9NiLULT"
      }
    },
    {
      "cell_type": "code",
      "source": [
        "print(df['spec_score'].value_counts().to_string())"
      ],
      "metadata": {
        "execution": {
          "iopub.status.busy": "2025-02-02T15:39:48.640208Z",
          "iopub.execute_input": "2025-02-02T15:39:48.640514Z",
          "iopub.status.idle": "2025-02-02T15:39:48.652262Z",
          "shell.execute_reply.started": "2025-02-02T15:39:48.640491Z",
          "shell.execute_reply": "2025-02-02T15:39:48.651113Z"
        },
        "trusted": true,
        "id": "hViHFp02LULT"
      },
      "outputs": [],
      "execution_count": null
    },
    {
      "cell_type": "markdown",
      "source": [
        "## h. processor_name"
      ],
      "metadata": {
        "id": "z7nawWRMLULT"
      }
    },
    {
      "cell_type": "code",
      "source": [
        "print(df['processor_name'].value_counts().to_string())\n",
        "print(len(np.unique(df['processor_name'])))"
      ],
      "metadata": {
        "execution": {
          "iopub.status.busy": "2025-02-02T15:39:48.67461Z",
          "iopub.execute_input": "2025-02-02T15:39:48.675003Z",
          "iopub.status.idle": "2025-02-02T15:39:48.686165Z",
          "shell.execute_reply.started": "2025-02-02T15:39:48.674948Z",
          "shell.execute_reply": "2025-02-02T15:39:48.685085Z"
        },
        "trusted": true,
        "id": "plLhIoN1LULT"
      },
      "outputs": [],
      "execution_count": null
    },
    {
      "cell_type": "code",
      "source": [
        "#Improve results\n",
        "df['processor_name'] = df['processor_name'].str.replace('plus', '+')\n",
        "\n",
        "df['processor_name_contains_plus'] = df['processor_name'].str.contains(r'\\+')\n",
        "\n",
        "# Lambda apply categories\n",
        "df['processor_name'] = df['processor_name'].apply(\n",
        "    lambda name: 'snapdragon' if 'snapdragon' in name else\n",
        "                 'dimensity' if 'dimensity' in name else\n",
        "                 'helio' if 'helio' in name else\n",
        "                 'unisoc' if 'unisoc' in name else\n",
        "                 'exynos' if 'exynos' in name else\n",
        "                 'tiger' if 'tiger' in name else\n",
        "                 'tensor' if 'tensor' in name else\n",
        "                 'other'\n",
        ")\n",
        "\n",
        "print(df['processor_name'].value_counts().to_string())\n",
        "print(df['processor_name_contains_plus'].value_counts().to_string())\n"
      ],
      "metadata": {
        "execution": {
          "iopub.status.busy": "2025-02-02T15:39:48.744689Z",
          "iopub.execute_input": "2025-02-02T15:39:48.745111Z",
          "iopub.status.idle": "2025-02-02T15:39:48.758854Z",
          "shell.execute_reply.started": "2025-02-02T15:39:48.745081Z",
          "shell.execute_reply": "2025-02-02T15:39:48.757745Z"
        },
        "trusted": true,
        "id": "qayHSJNQLULT"
      },
      "outputs": [],
      "execution_count": null
    },
    {
      "cell_type": "markdown",
      "source": [
        "## g. no_of_sim"
      ],
      "metadata": {
        "id": "nlrb3jhvLULT"
      }
    },
    {
      "cell_type": "markdown",
      "source": [
        "#### We notice that the values are quite clean, but\n",
        "#### - We could create a sim column\n",
        "#### - We could create some new colunms for each value"
      ],
      "metadata": {
        "id": "0pFd_cshLULT"
      }
    },
    {
      "cell_type": "code",
      "source": [
        "print(df['no_of_sim'].value_counts().to_string())"
      ],
      "metadata": {
        "execution": {
          "iopub.status.busy": "2025-02-02T15:39:48.83284Z",
          "iopub.execute_input": "2025-02-02T15:39:48.833236Z",
          "iopub.status.idle": "2025-02-02T15:39:48.840438Z",
          "shell.execute_reply.started": "2025-02-02T15:39:48.833207Z",
          "shell.execute_reply": "2025-02-02T15:39:48.839311Z"
        },
        "trusted": true,
        "id": "QucbntVSLULT"
      },
      "outputs": [],
      "execution_count": null
    },
    {
      "cell_type": "code",
      "source": [
        "# Remove last character + removing useless spaces\n",
        "df['network_proprieties'] = df['no_of_sim'].str.split(',', n=1).str[1].str.strip(',').str.strip()\n",
        "\n",
        "# Creating a sim column\n",
        "df['no_of_sim'] = df['no_of_sim'].str.split(',', n=1).str[0]\n",
        "\n",
        "# Deleting the too few occurences\n",
        "df = filter_by_occurrence(df, ['no_of_sim', 'network_proprieties'], 1)\n",
        "\n",
        "# Initialisation of an empty list where we put our unique values\n",
        "unique_values = []\n",
        "\n",
        "# Extact of every values\n",
        "df[\"network_proprieties\"].apply(lambda x: unique_values.extend(x.split(\", \")))\n",
        "\n",
        "# We delete the duplicates\n",
        "unique_values = list(pd.unique(unique_values))\n",
        "\n",
        "# Creation of binaries values\n",
        "for value in unique_values:\n",
        "    df[value] = df[\"network_proprieties\"].apply(lambda x: 1 if value in x else 0)\n",
        "\n",
        "# Delete network_proprieties\n",
        "df = df.drop(columns=[\"network_proprieties\",'3g','4g'])"
      ],
      "metadata": {
        "trusted": true,
        "execution": {
          "iopub.status.busy": "2025-02-02T15:39:48.851438Z",
          "iopub.execute_input": "2025-02-02T15:39:48.851763Z",
          "iopub.status.idle": "2025-02-02T15:39:48.881496Z",
          "shell.execute_reply.started": "2025-02-02T15:39:48.851739Z",
          "shell.execute_reply": "2025-02-02T15:39:48.880602Z"
        },
        "id": "SnlOfWkQLULT"
      },
      "outputs": [],
      "execution_count": null
    },
    {
      "cell_type": "markdown",
      "source": [
        "## h. screen_resolution : ok"
      ],
      "metadata": {
        "id": "BBpYKC0nLULU"
      }
    },
    {
      "cell_type": "code",
      "source": [
        "print(df['screen_resolution'].value_counts().to_string())"
      ],
      "metadata": {
        "execution": {
          "iopub.status.busy": "2025-02-02T15:39:48.883578Z",
          "iopub.execute_input": "2025-02-02T15:39:48.884781Z",
          "iopub.status.idle": "2025-02-02T15:39:48.895019Z",
          "shell.execute_reply.started": "2025-02-02T15:39:48.884741Z",
          "shell.execute_reply": "2025-02-02T15:39:48.894Z"
        },
        "trusted": true,
        "id": "MS-_PeFLLULU"
      },
      "outputs": [],
      "execution_count": null
    },
    {
      "cell_type": "markdown",
      "source": [
        "#### We notice that :\n",
        "#### - We could separate this column into screen_resolution_height, and screen_resolution_width\n",
        "#### - We should be careful that the value of width is always smaller than the height\n",
        "#### - We could create a column with differents attributes relative to screen_resolution like screen_area, aspect_ratio, etc.\n",
        "#### - We need to remove the useless infos like \"px\" and converts it into integet"
      ],
      "metadata": {
        "id": "7RGq6pV_LULU"
      }
    },
    {
      "cell_type": "code",
      "source": [
        "#We can separate notch and resolution\n",
        "df['notch_type'] = df['screen_resolution'].str.extract(r'(?:\\S+\\s+){4}(.*)')\n",
        "\n",
        "#Replacing NaN by Unknown\n",
        "df[\"notch_type\"] = df[\"notch_type\"].replace(np.nan, \"Unknown\")\n",
        "\n",
        "#Removing weird value\n",
        "df = df[~df['screen_resolution'].isin([\"full hd+ display with punch hole\"])]\n",
        "\n",
        "#result\n",
        "print(df['notch_type'].value_counts(dropna=False).to_string())"
      ],
      "metadata": {
        "execution": {
          "iopub.status.busy": "2025-02-02T15:39:48.908872Z",
          "iopub.execute_input": "2025-02-02T15:39:48.909316Z",
          "iopub.status.idle": "2025-02-02T15:39:48.924864Z",
          "shell.execute_reply.started": "2025-02-02T15:39:48.909287Z",
          "shell.execute_reply": "2025-02-02T15:39:48.923788Z"
        },
        "trusted": true,
        "id": "htiiBcBqLULU"
      },
      "outputs": [],
      "execution_count": null
    },
    {
      "cell_type": "code",
      "source": [
        "# Extract numbers\n",
        "df['screen_resolution'] = df['screen_resolution'].str.extract(r'(\\d+\\s*x\\s*\\d+)')\n",
        "\n",
        "# Extract numbers in différent colunms\n",
        "df[['screen_resolution_height', 'screen_resolution_width']] = df['screen_resolution'].str.split(' x ', expand=True).astype(int)\n",
        "\n",
        "# Putting always the lower px in width and higher in height\n",
        "df = swap_columns_if_greater(df, 'screen_resolution_width', 'screen_resolution_height')\n",
        "\n",
        "#screen_resolution is now a useless column\n",
        "df = df.drop('screen_resolution', axis=1)\n",
        "\n",
        "#Creation of other infos\n",
        "df['aspect_ratio'] = df['screen_resolution_width'] / df['screen_resolution_height']\n",
        "df['screen_area'] = df['screen_resolution_width'] * df['screen_resolution_height']\n",
        "\n",
        "#It's not a redondancy info - 0.33741519821504895\n",
        "df['aspect_ratio'].corr(df['screen_area'])"
      ],
      "metadata": {
        "execution": {
          "iopub.status.busy": "2025-02-02T15:39:48.945769Z",
          "iopub.execute_input": "2025-02-02T15:39:48.946623Z",
          "iopub.status.idle": "2025-02-02T15:39:48.971284Z",
          "shell.execute_reply.started": "2025-02-02T15:39:48.946577Z",
          "shell.execute_reply": "2025-02-02T15:39:48.970064Z"
        },
        "trusted": true,
        "id": "ogO7cxqiLULU"
      },
      "outputs": [],
      "execution_count": null
    },
    {
      "cell_type": "markdown",
      "source": [
        "## i. battery : ok"
      ],
      "metadata": {
        "id": "MxUN-JgJLULU"
      }
    },
    {
      "cell_type": "code",
      "source": [
        "print(df['battery'].value_counts().to_string())"
      ],
      "metadata": {
        "execution": {
          "iopub.status.busy": "2025-02-02T15:39:48.9731Z",
          "iopub.execute_input": "2025-02-02T15:39:48.973409Z",
          "iopub.status.idle": "2025-02-02T15:39:48.980544Z",
          "shell.execute_reply.started": "2025-02-02T15:39:48.973384Z",
          "shell.execute_reply": "2025-02-02T15:39:48.979529Z"
        },
        "trusted": true,
        "id": "FUqcj8mqLULU"
      },
      "outputs": [],
      "execution_count": null
    },
    {
      "cell_type": "code",
      "source": [
        "display((df[df['battery'].isin(['10500 mah battery'])]))\n",
        "df = df[~df['battery'].isin(['10500 mah battery'])]"
      ],
      "metadata": {
        "trusted": true,
        "execution": {
          "iopub.status.busy": "2025-02-02T15:39:49.008688Z",
          "iopub.execute_input": "2025-02-02T15:39:49.009636Z",
          "iopub.status.idle": "2025-02-02T15:39:49.025322Z",
          "shell.execute_reply.started": "2025-02-02T15:39:49.009604Z",
          "shell.execute_reply": "2025-02-02T15:39:49.024158Z"
        },
        "id": "tlcblpMALULU"
      },
      "outputs": [],
      "execution_count": null
    },
    {
      "cell_type": "markdown",
      "source": [
        "#### We notice that the column is pretty clean but :\n",
        "#### - We still need to remove the useless values\n",
        "#### - 10500 mah battery is too high for a phone, it's because it's a tablet, we need to remove it"
      ],
      "metadata": {
        "id": "evUiR_wOLULV"
      }
    },
    {
      "cell_type": "code",
      "source": [
        "# Deleting the mah battery + the \"mah battery with 22.5w fast charging\" value\n",
        "df['battery'] = df['battery'].str.replace(r'\\s*mah battery.*$', '', regex=True)\n",
        "\n",
        "df = normalize_text_column(df, ['battery'],['converts_into_integer'])"
      ],
      "metadata": {
        "execution": {
          "iopub.status.busy": "2025-02-02T15:39:49.027361Z",
          "iopub.execute_input": "2025-02-02T15:39:49.028429Z",
          "iopub.status.idle": "2025-02-02T15:39:49.039132Z",
          "shell.execute_reply.started": "2025-02-02T15:39:49.028389Z",
          "shell.execute_reply": "2025-02-02T15:39:49.037938Z"
        },
        "trusted": true,
        "id": "I3br4kpvLULV"
      },
      "outputs": [],
      "execution_count": null
    },
    {
      "cell_type": "code",
      "source": [
        "print(df['battery'].value_counts().to_string())"
      ],
      "metadata": {
        "execution": {
          "iopub.status.busy": "2025-02-02T15:39:49.050369Z",
          "iopub.execute_input": "2025-02-02T15:39:49.050708Z",
          "iopub.status.idle": "2025-02-02T15:39:49.059194Z",
          "shell.execute_reply.started": "2025-02-02T15:39:49.050683Z",
          "shell.execute_reply": "2025-02-02T15:39:49.058036Z"
        },
        "trusted": true,
        "id": "hVfvOtmKLULa"
      },
      "outputs": [],
      "execution_count": null
    },
    {
      "cell_type": "markdown",
      "source": [
        "## j. price"
      ],
      "metadata": {
        "id": "nyZ9HT4KLULa"
      }
    },
    {
      "cell_type": "code",
      "source": [
        "pd.set_option(\"display.max_rows\", 50)\n",
        "display(df['price'].value_counts(dropna=False))"
      ],
      "metadata": {
        "trusted": true,
        "execution": {
          "iopub.status.busy": "2025-02-02T15:39:49.086077Z",
          "iopub.execute_input": "2025-02-02T15:39:49.086868Z",
          "iopub.status.idle": "2025-02-02T15:39:49.097409Z",
          "shell.execute_reply.started": "2025-02-02T15:39:49.086835Z",
          "shell.execute_reply": "2025-02-02T15:39:49.096518Z"
        },
        "id": "VongIfejLULa"
      },
      "outputs": [],
      "execution_count": null
    },
    {
      "cell_type": "markdown",
      "source": [
        "#### We notice that the column is pretty clean but we need to remove the \",\" we find sometimes on the values and converts it to int"
      ],
      "metadata": {
        "id": "AeYz_BW0LULa"
      }
    },
    {
      "cell_type": "code",
      "source": [
        "df[\"price\"] = df[\"price\"].str.replace(\",\", \"\").astype(int)\n",
        "df = normalize_text_column(df, ['price'],['converts_into_integer'])"
      ],
      "metadata": {
        "trusted": true,
        "execution": {
          "iopub.status.busy": "2025-02-02T15:39:49.101797Z",
          "iopub.execute_input": "2025-02-02T15:39:49.102162Z",
          "iopub.status.idle": "2025-02-02T15:39:49.112165Z",
          "shell.execute_reply.started": "2025-02-02T15:39:49.102136Z",
          "shell.execute_reply": "2025-02-02T15:39:49.111034Z"
        },
        "id": "DD941ghjLULa"
      },
      "outputs": [],
      "execution_count": null
    },
    {
      "cell_type": "markdown",
      "source": [
        "## j. fast_charging"
      ],
      "metadata": {
        "id": "kvL06nlRLULa"
      }
    },
    {
      "cell_type": "code",
      "source": [
        "display(df['fast_charging'].value_counts(dropna=False))"
      ],
      "metadata": {
        "execution": {
          "iopub.status.busy": "2025-02-02T15:39:49.134508Z",
          "iopub.execute_input": "2025-02-02T15:39:49.135421Z",
          "iopub.status.idle": "2025-02-02T15:39:49.14409Z",
          "shell.execute_reply.started": "2025-02-02T15:39:49.135386Z",
          "shell.execute_reply": "2025-02-02T15:39:49.143055Z"
        },
        "trusted": true,
        "id": "pHpcFZukLULa"
      },
      "outputs": [],
      "execution_count": null
    },
    {
      "cell_type": "code",
      "source": [
        "#Removing not integer infos\n",
        "df = normalize_text_column(df,['fast_charging'],['string_removal'])\n",
        "df['fast_charging'] = df['fast_charging'].replace('', np.nan)\n",
        "\n",
        "#Creating new column for flaging guessed values\n",
        "df['fast_charging_was_guessed'] = df['fast_charging'].isna()\n",
        "\n",
        "#Converting to float\n",
        "df = normalize_text_column(df, ['fast_charging'],['converts_into_float'])\n",
        "\n",
        "#Guessing unknown values\n",
        "df = calculate_median_from_other_columns(df, 'fast_charging', ['inbuilt_memory', 'company'])\n",
        "\n",
        "#Drop last NA columns\n",
        "df = df[~df['fast_charging'].isin([np.nan])]"
      ],
      "metadata": {
        "execution": {
          "iopub.status.busy": "2025-02-02T15:39:49.149626Z",
          "iopub.execute_input": "2025-02-02T15:39:49.150331Z",
          "iopub.status.idle": "2025-02-02T15:39:49.170196Z",
          "shell.execute_reply.started": "2025-02-02T15:39:49.150298Z",
          "shell.execute_reply": "2025-02-02T15:39:49.168995Z"
        },
        "trusted": true,
        "id": "DxAsBvUgLULa"
      },
      "outputs": [],
      "execution_count": null
    },
    {
      "cell_type": "markdown",
      "source": [
        "## b. processor"
      ],
      "metadata": {
        "id": "g8mhbYRaLULa"
      }
    },
    {
      "cell_type": "markdown",
      "source": [
        "#### We notice that the column processor doesn't really adds any information"
      ],
      "metadata": {
        "id": "k8KJNrJwLULa"
      }
    },
    {
      "cell_type": "code",
      "source": [
        "display(df['processor'].value_counts(dropna=False))\n",
        "df = df.drop('processor', axis=1)"
      ],
      "metadata": {
        "trusted": true,
        "execution": {
          "iopub.status.busy": "2025-02-02T15:39:49.185929Z",
          "iopub.execute_input": "2025-02-02T15:39:49.186891Z",
          "iopub.status.idle": "2025-02-02T15:39:49.196385Z",
          "shell.execute_reply.started": "2025-02-02T15:39:49.186859Z",
          "shell.execute_reply": "2025-02-02T15:39:49.195468Z"
        },
        "id": "YRvzIQ58LULa"
      },
      "outputs": [],
      "execution_count": null
    },
    {
      "cell_type": "markdown",
      "source": [
        "## b. inbuilt_memory & ram"
      ],
      "metadata": {
        "execution": {
          "iopub.status.busy": "2024-07-02T18:00:44.362735Z",
          "iopub.execute_input": "2024-07-02T18:00:44.363139Z",
          "iopub.status.idle": "2024-07-02T18:00:44.367855Z",
          "shell.execute_reply.started": "2024-07-02T18:00:44.363104Z",
          "shell.execute_reply": "2024-07-02T18:00:44.366844Z"
        },
        "id": "ZZVFftW8LULa"
      }
    },
    {
      "cell_type": "code",
      "source": [
        "display(df['inbuilt_memory'].value_counts(dropna=False))\n",
        "display(df['ram'].value_counts(dropna=False))"
      ],
      "metadata": {
        "execution": {
          "iopub.status.busy": "2025-02-02T15:39:49.211577Z",
          "iopub.execute_input": "2025-02-02T15:39:49.212344Z",
          "iopub.status.idle": "2025-02-02T15:39:49.225492Z",
          "shell.execute_reply.started": "2025-02-02T15:39:49.212313Z",
          "shell.execute_reply": "2025-02-02T15:39:49.224472Z"
        },
        "trusted": true,
        "id": "SdNmwvqULULa"
      },
      "outputs": [],
      "execution_count": null
    },
    {
      "cell_type": "code",
      "source": [
        "display((df[df['inbuilt_memory'].isin(['16 gb inbuilt',\"8 gb inbuilt\"])]))\n",
        "display((df[df['name'].isin(['realme gt flash 5g'])]))\n",
        "display((df[df['ram'].isin(['1.5 gb ram','1 gb ram','18 gb ram'])]))"
      ],
      "metadata": {
        "trusted": true,
        "execution": {
          "iopub.status.busy": "2025-02-02T15:39:49.249843Z",
          "iopub.execute_input": "2025-02-02T15:39:49.250944Z",
          "iopub.status.idle": "2025-02-02T15:39:49.292194Z",
          "shell.execute_reply.started": "2025-02-02T15:39:49.250906Z",
          "shell.execute_reply": "2025-02-02T15:39:49.291122Z"
        },
        "id": "Z4RnyGs-LULa"
      },
      "outputs": [],
      "execution_count": null
    },
    {
      "cell_type": "markdown",
      "source": [
        "#### What do we notice?\n",
        "#### - When the inbuild_memory is empty, the value is in ram column\n",
        "#### - The values of 258, 8, 16 on inbuild_memory is looking uncommon and need to be verified. The value of 1 tb needs to be ajusted\n",
        "#### - The values of 24, 1 and 1.5 on ram are looking uncommon and need to be verified"
      ],
      "metadata": {
        "id": "L_gkC-ErLULa"
      }
    },
    {
      "cell_type": "code",
      "source": [
        "df.reset_index(drop=True, inplace=True)\n",
        "\n",
        "#We need to replace the values on inbuilt_memory when ram contains \"inbuilt\", and then delete the wrong values on ram\n",
        "df.loc[df['ram'].str.contains('inbuilt',na=False),'inbuilt_memory'] = df['ram']\n",
        "df.loc[df['ram'].str.contains('inbuilt',na=False),'ram'] = np.nan\n",
        "\n",
        "#Replace wrong 16Go value\n",
        "df.loc[(df['name'] == 'realme gt flash 5g') & (df['inbuilt_memory'] == 8.0), 'inbuilt_memory'] = 16.0\n",
        "\n",
        "# Remplace \"258\" by \"256\" & \"1\" by \"1024\"\n",
        "df['inbuilt_memory'] = df['inbuilt_memory'].replace({\n",
        "    \"258 gb inbuilt\": \"256 gb inbuilt\",\n",
        "    \"1 tb inbuilt\": \"1024 gb inbuilt\"\n",
        "})\n",
        "\n",
        "# Converts inbuilt_memory in int except nan values\n",
        "df = normalize_text_column(df, ['inbuilt_memory','ram'],['string_removal','converts_into_integer'])\n",
        "\n",
        "# Converts NaN ram values into the median of ram from inbuilt_memory and company\n",
        "df = calculate_median_from_other_columns(df, 'ram', ['inbuilt_memory', 'company'])"
      ],
      "metadata": {
        "trusted": true,
        "execution": {
          "iopub.status.busy": "2025-02-02T15:39:49.293816Z",
          "iopub.execute_input": "2025-02-02T15:39:49.294147Z",
          "iopub.status.idle": "2025-02-02T15:39:49.319788Z",
          "shell.execute_reply.started": "2025-02-02T15:39:49.29412Z",
          "shell.execute_reply": "2025-02-02T15:39:49.318805Z"
        },
        "id": "puPrKt0RLULa"
      },
      "outputs": [],
      "execution_count": null
    },
    {
      "cell_type": "code",
      "source": [
        "display(df['inbuilt_memory'].value_counts(dropna=False))\n",
        "display(df['ram'].value_counts(dropna=False))"
      ],
      "metadata": {
        "trusted": true,
        "execution": {
          "iopub.status.busy": "2025-02-02T15:39:49.321786Z",
          "iopub.execute_input": "2025-02-02T15:39:49.3223Z",
          "iopub.status.idle": "2025-02-02T15:39:49.336536Z",
          "shell.execute_reply.started": "2025-02-02T15:39:49.322265Z",
          "shell.execute_reply": "2025-02-02T15:39:49.335496Z"
        },
        "id": "QsPrRJ-0LULb"
      },
      "outputs": [],
      "execution_count": null
    },
    {
      "cell_type": "markdown",
      "source": [
        "##   f - android_version & external_memory"
      ],
      "metadata": {
        "id": "EIQBFPGoLULb"
      }
    },
    {
      "cell_type": "code",
      "source": [
        "#Let's see how dirty the columns android_version & external_memory are\n",
        "pd.set_option(\"display.max_rows\", None)\n",
        "display(df['android_version'].value_counts(dropna=False))\n",
        "display(df['external_memory'].value_counts(dropna=False))\n",
        "pd.set_option(\"display.max_rows\", 30)"
      ],
      "metadata": {
        "execution": {
          "iopub.status.busy": "2025-02-02T15:39:49.338112Z",
          "iopub.execute_input": "2025-02-02T15:39:49.338428Z",
          "iopub.status.idle": "2025-02-02T15:39:49.355752Z",
          "shell.execute_reply.started": "2025-02-02T15:39:49.338404Z",
          "shell.execute_reply": "2025-02-02T15:39:49.35469Z"
        },
        "trusted": true,
        "id": "GqNFsOO6LULb"
      },
      "outputs": [],
      "execution_count": null
    },
    {
      "cell_type": "code",
      "source": [
        "df[df['android_version'].isnull()]"
      ],
      "metadata": {
        "trusted": true,
        "execution": {
          "iopub.status.busy": "2025-02-02T15:39:49.363275Z",
          "iopub.execute_input": "2025-02-02T15:39:49.363598Z",
          "iopub.status.idle": "2025-02-02T15:39:49.387821Z",
          "shell.execute_reply.started": "2025-02-02T15:39:49.363572Z",
          "shell.execute_reply": "2025-02-02T15:39:49.386592Z"
        },
        "id": "4YcjXplqLULb"
      },
      "outputs": [],
      "execution_count": null
    },
    {
      "cell_type": "markdown",
      "source": [
        "#### We notice that when android_version is null, the value can be in \"external_memory\"\n",
        "#### There is valeus of versions like \"7.1.1\" that need to be changed\n",
        "#### external_memory is too dirty to be usable"
      ],
      "metadata": {
        "id": "MR6avuLmLULb"
      }
    },
    {
      "cell_type": "code",
      "source": [
        "#Replacing empty values on andrboid_version by ones that can contains versions in external_memory\n",
        "for index, row in df.iterrows():\n",
        "    if pd.isnull(row['android_version']) and (len(row['external_memory']) < 19) and bool(re.search(r'\\d', row['external_memory'])):\n",
        "        df.at[index, 'android_version'] = row['external_memory']\n",
        "        df.at[index, 'external_memory'] = np.nan\n",
        "\n",
        "#Removing not integer infos\n",
        "df = normalize_text_column(df,['android_version'],['string_removal'])\n",
        "\n",
        "#Changing the version 7.1.1 into 7.11\n",
        "df['android_version'] = df['android_version'].replace({\"7.1.1\": \"7.11\"})\n",
        "\n",
        "#Converts into float\n",
        "df = normalize_text_column(df,['android_version'],['converts_into_float'])\n",
        "\n",
        "# Converts NaN android_version values into the median of android_version from ram and company\n",
        "df = calculate_median_from_other_columns(df, 'android_version', ['inbuilt_memory', 'company'])\n",
        "\n",
        "# Deleting external_memory because too dirty\n",
        "df = df.drop(columns=['external_memory'])\n",
        "\n",
        "#Result\n",
        "display(df['android_version'].value_counts(dropna=False))"
      ],
      "metadata": {
        "execution": {
          "iopub.status.busy": "2025-02-02T15:39:49.391154Z",
          "iopub.execute_input": "2025-02-02T15:39:49.391941Z",
          "iopub.status.idle": "2025-02-02T15:39:49.510706Z",
          "shell.execute_reply.started": "2025-02-02T15:39:49.39191Z",
          "shell.execute_reply": "2025-02-02T15:39:49.509692Z"
        },
        "trusted": true,
        "id": "dqpvxnZoLULb"
      },
      "outputs": [],
      "execution_count": null
    },
    {
      "cell_type": "code",
      "source": [
        "display(get_most_missing_data(df,0))"
      ],
      "metadata": {
        "trusted": true,
        "execution": {
          "iopub.status.busy": "2025-02-02T15:39:49.512662Z",
          "iopub.execute_input": "2025-02-02T15:39:49.513102Z",
          "iopub.status.idle": "2025-02-02T15:39:49.527641Z",
          "shell.execute_reply.started": "2025-02-02T15:39:49.513065Z",
          "shell.execute_reply": "2025-02-02T15:39:49.526544Z"
        },
        "id": "wq-zhkk1LULb"
      },
      "outputs": [],
      "execution_count": null
    },
    {
      "cell_type": "markdown",
      "source": [
        "## III - Outliers"
      ],
      "metadata": {
        "id": "8Zp4z39OLULb"
      }
    },
    {
      "cell_type": "markdown",
      "source": [
        "#### For the outliers, we are going to generate multiple columns that will show us any anomaly in the distribution of the data"
      ],
      "metadata": {
        "id": "RrCkO03JLULb"
      }
    },
    {
      "cell_type": "code",
      "source": [
        "import warnings\n",
        "#Remove warning\n",
        "warnings.filterwarnings(\"ignore\", category=FutureWarning)\n",
        "\n",
        "#Show outliers for all numerical columns\n",
        "name_numerical_columns = list(df.select_dtypes(exclude='object'))\n",
        "\n",
        "fig, axes = plt.subplots(len(name_numerical_columns), 3, figsize=(30, 120),dpi = 100)\n",
        "\n",
        "for cpt in range(len(name_numerical_columns)):\n",
        "    sns.scatterplot(ax=axes[cpt, 0], x=name_numerical_columns[cpt], y='spec_score', data=df.select_dtypes(exclude='object'))\n",
        "    sns.kdeplot(ax=axes[cpt, 1], x=name_numerical_columns[cpt], data=df.select_dtypes(exclude='object'))\n",
        "    try:\n",
        "        sns.boxplot(ax=axes[cpt, 2], y=name_numerical_columns[cpt], data=df.select_dtypes(exclude='object'))\n",
        "    except Exception as e:\n",
        "        print(f\"Boxplot skipped for {name_numerical_columns[cpt]}: {e}\")\n",
        "\n",
        "#price - weird value\n",
        "df = df.drop(df[(df['price'] > 14000) & (df['spec_score'] < 75)].index)\n"
      ],
      "metadata": {
        "trusted": true,
        "execution": {
          "iopub.status.busy": "2025-02-02T15:39:49.52905Z",
          "iopub.execute_input": "2025-02-02T15:39:49.529434Z",
          "iopub.status.idle": "2025-02-02T15:40:01.047779Z",
          "shell.execute_reply.started": "2025-02-02T15:39:49.5294Z",
          "shell.execute_reply": "2025-02-02T15:40:01.046667Z"
        },
        "id": "3jIQkjoJLULb"
      },
      "outputs": [],
      "execution_count": null
    },
    {
      "cell_type": "code",
      "source": [
        "plt.figure(figsize=(12, 8))\n",
        "sns.clustermap(df.select_dtypes(exclude='object').corr(), annot=True, cmap='coolwarm', fmt=\".2f\")\n",
        "plt.title(\"Correlation clustermap\")\n",
        "plt.show()"
      ],
      "metadata": {
        "trusted": true,
        "execution": {
          "iopub.status.busy": "2025-02-02T15:40:01.05083Z",
          "iopub.execute_input": "2025-02-02T15:40:01.051743Z",
          "iopub.status.idle": "2025-02-02T15:40:02.416393Z",
          "shell.execute_reply.started": "2025-02-02T15:40:01.051703Z",
          "shell.execute_reply": "2025-02-02T15:40:02.414992Z"
        },
        "id": "45g6fRRcLULb"
      },
      "outputs": [],
      "execution_count": null
    },
    {
      "cell_type": "code",
      "source": [
        "#Has too much corr with screen_resolution_width\n",
        "df = df.drop('screen_area', axis=1)\n",
        "df = df.drop(['name','camera'], axis=1)"
      ],
      "metadata": {
        "trusted": true,
        "execution": {
          "iopub.status.busy": "2025-02-02T15:40:02.417651Z",
          "iopub.execute_input": "2025-02-02T15:40:02.417967Z",
          "iopub.status.idle": "2025-02-02T15:40:02.426349Z",
          "shell.execute_reply.started": "2025-02-02T15:40:02.417938Z",
          "shell.execute_reply": "2025-02-02T15:40:02.425162Z"
        },
        "id": "g0xqltchLULb"
      },
      "outputs": [],
      "execution_count": null
    },
    {
      "cell_type": "markdown",
      "source": [
        "## IV - Dummies"
      ],
      "metadata": {
        "id": "XuLf-GmFLULb"
      }
    },
    {
      "cell_type": "code",
      "source": [
        "# Separate numerical and categorical variables\n",
        "df_nums = df.select_dtypes(exclude='object')\n",
        "df_objs = df.select_dtypes(include='object')\n",
        "\n",
        "# Convert categorical variables into dummies (one-hot encoding) while removing the first category to avoid multicollinearity\n",
        "df_objs_dummies = pd.get_dummies(df_objs, drop_first=True)\n",
        "\n",
        "# Combine numerical and encoded categorical variables\n",
        "final_df = pd.concat([df_nums, df_objs_dummies], axis=1)\n",
        "\n",
        "# Display final dataset dimensions\n",
        "print(f\"Final dataset dimensions: {final_df.shape}\")"
      ],
      "metadata": {
        "execution": {
          "iopub.status.busy": "2025-02-02T15:40:02.427728Z",
          "iopub.execute_input": "2025-02-02T15:40:02.428141Z",
          "iopub.status.idle": "2025-02-02T15:40:02.444536Z",
          "shell.execute_reply.started": "2025-02-02T15:40:02.428114Z",
          "shell.execute_reply": "2025-02-02T15:40:02.44338Z"
        },
        "trusted": true,
        "id": "LDmA0T1BLULb"
      },
      "outputs": [],
      "execution_count": null
    },
    {
      "cell_type": "code",
      "source": [
        "#Final analystic\n",
        "pd.set_option(\"display.max_columns\", None)\n",
        "display(final_df.info())\n",
        "display(final_df.describe())\n",
        "display(final_df.head())\n",
        "pd.set_option(\"display.max_rows\", None)\n",
        "display(final_df.nunique())\n",
        "pd.set_option(\"display.max_rows\", 30)"
      ],
      "metadata": {
        "trusted": true,
        "execution": {
          "iopub.status.busy": "2025-02-02T15:40:02.445816Z",
          "iopub.execute_input": "2025-02-02T15:40:02.446236Z",
          "iopub.status.idle": "2025-02-02T15:40:02.533376Z",
          "shell.execute_reply.started": "2025-02-02T15:40:02.446204Z",
          "shell.execute_reply": "2025-02-02T15:40:02.532363Z"
        },
        "id": "B4XBDM1DLULb"
      },
      "outputs": [],
      "execution_count": null
    },
    {
      "cell_type": "code",
      "source": [
        "#See correlations on our final df\n",
        "pd.set_option(\"display.max_rows\", None)\n",
        "final_df.select_dtypes(exclude='object').corr()['price'].sort_values(ascending=True)"
      ],
      "metadata": {
        "trusted": true,
        "execution": {
          "iopub.status.busy": "2025-02-02T15:40:02.534718Z",
          "iopub.execute_input": "2025-02-02T15:40:02.535189Z",
          "iopub.status.idle": "2025-02-02T15:40:02.557169Z",
          "shell.execute_reply.started": "2025-02-02T15:40:02.535153Z",
          "shell.execute_reply": "2025-02-02T15:40:02.556142Z"
        },
        "id": "FxrfZx1wLULb"
      },
      "outputs": [],
      "execution_count": null
    },
    {
      "cell_type": "markdown",
      "source": [
        "## V - Lazy predict"
      ],
      "metadata": {
        "id": "LaD7ZBWkLULb"
      }
    },
    {
      "cell_type": "code",
      "source": [
        "# Imports\n",
        "!pip install lazypredict pandas scikit-learn\n",
        "\n",
        "from sklearn.model_selection import train_test_split\n",
        "from lazypredict.Supervised import LazyRegressor\n",
        "from sklearn.preprocessing import StandardScaler  # Changed from MinMaxScaler\n",
        "import pandas as pd\n",
        "\n",
        "# Load the dataset\n",
        "X = final_df.drop(columns=['price'])  # Features\n",
        "y = final_df['price']  # Target variable\n",
        "\n",
        "# Normalize the data using StandardScaler\n",
        "scaler = StandardScaler()  # Changed from MinMaxScaler\n",
        "X = pd.DataFrame(scaler.fit_transform(X), columns=X.columns)\n",
        "\n",
        "# Split the data\n",
        "X_train, X_test, y_train, y_test = train_test_split(X, y, test_size=0.2, random_state=42)\n",
        "\n",
        "# Initialize LazyRegressor\n",
        "reg = LazyRegressor(verbose=0, ignore_warnings=True, custom_metric=None)\n",
        "\n",
        "# Train the models with all features\n",
        "models, predictions = reg.fit(X_train, X_test, y_train, y_test)\n",
        "\n",
        "# Find the best R² score among all models\n",
        "best_r2_reference = models['R-Squared'].max()\n",
        "\n",
        "# Display the results\n",
        "print(\"\\n📊 LazyRegressor Model Results:\\n\")\n",
        "print(models)\n"
      ],
      "metadata": {
        "trusted": true,
        "execution": {
          "iopub.status.busy": "2025-02-02T15:40:02.558642Z",
          "iopub.execute_input": "2025-02-02T15:40:02.558947Z",
          "iopub.status.idle": "2025-02-02T15:40:26.386001Z",
          "shell.execute_reply.started": "2025-02-02T15:40:02.558923Z",
          "shell.execute_reply": "2025-02-02T15:40:26.384814Z"
        },
        "id": "Wvbu2Eb4LULb"
      },
      "outputs": [],
      "execution_count": null
    }
  ]
}